{
  "cells": [
    {
      "cell_type": "markdown",
      "metadata": {
        "id": "5YNIISPploTY"
      },
      "source": [
        "_____\n",
        "**Write a program to create an array [10, 5, 7, 20, 15, -9, 33], print it, Find the maximum and minimum Value of the array**"
      ]
    },
    {
      "cell_type": "code",
      "execution_count": 1,
      "metadata": {
        "colab": {
          "base_uri": "https://localhost:8080/"
        },
        "id": "LGwQ0y0wloTY",
        "outputId": "22c7f15b-cc69-4ca6-a7cf-25d099576c22"
      },
      "outputs": [
        {
          "name": "stdout",
          "output_type": "stream",
          "text": [
            "The array is: [10  5  7 20 15 -9 33]\n",
            "Maximum value: 33\n",
            "Minimum value: -9\n"
          ]
        }
      ],
      "source": [
        "#Code here\n",
        "import numpy as np\n",
        "\n",
        "# Create an array\n",
        "my_array = np.array([10, 5, 7, 20, 15, -9, 33])\n",
        "print(f\"The array is: {my_array}\")\n",
        "\n",
        "# Find maximum and minimum values\n",
        "max_value = np.max(my_array)\n",
        "min_value = np.min(my_array)\n",
        "\n",
        "print(f\"Maximum value: {max_value}\")\n",
        "print(f\"Minimum value: {min_value}\")"
      ]
    },
    {
      "cell_type": "markdown",
      "metadata": {
        "id": "CjKQrl4ZloTY"
      },
      "source": [
        "______\n",
        "**Write a program to accept an array of elements and find the maximum without using max function**"
      ]
    },
    {
      "cell_type": "code",
      "execution_count": 2,
      "metadata": {
        "colab": {
          "base_uri": "https://localhost:8080/"
        },
        "id": "jFqGo32uloTY",
        "outputId": "192b2a7e-5489-4731-ff26-2f3fb46a5711"
      },
      "outputs": [
        {
          "name": "stdout",
          "output_type": "stream",
          "text": [
            "The array is: [10  5  7 20 15 -9 33]\n",
            "The maximum value is: 33\n"
          ]
        }
      ],
      "source": [
        "#Code here\n",
        "import numpy as np\n",
        "\n",
        "# Accept an array of elements\n",
        "# For this example, we'll use a predefined array\n",
        "my_array = np.array([10, 5, 7, 20, 15, -9, 33])\n",
        "print(f\"The array is: {my_array}\")\n",
        "\n",
        "# Find the maximum value without using the max() function\n",
        "if my_array.size == 0:\n",
        "    max_val = None\n",
        "else:\n",
        "    max_val = my_array[0]\n",
        "    for element in my_array:\n",
        "        if element > max_val:\n",
        "            max_val = element\n",
        "\n",
        "print(f\"The maximum value is: {max_val}\")"
      ]
    },
    {
      "cell_type": "markdown",
      "metadata": {
        "id": "V1Tbn_avloTY"
      },
      "source": [
        "___\n",
        "**Write a program to accept two matrices [[1,2],[3,4]],   [[2,4],[6,8]]and find the sum and subtraction of two matrices**"
      ]
    },
    {
      "cell_type": "code",
      "execution_count": 3,
      "metadata": {
        "colab": {
          "base_uri": "https://localhost:8080/"
        },
        "id": "jyu705aKloTZ",
        "outputId": "c3fbe467-b824-4e10-b00c-cd1c6fdb59c0"
      },
      "outputs": [
        {
          "name": "stdout",
          "output_type": "stream",
          "text": [
            "Matrix 1:\n",
            "[[1 2]\n",
            " [3 4]]\n",
            "\n",
            "Matrix 2:\n",
            "[[2 4]\n",
            " [6 8]]\n",
            "\n",
            "Sum of the matrices:\n",
            "[[ 3  6]\n",
            " [ 9 12]]\n",
            "\n",
            "Subtraction of the matrices:\n",
            "[[-1 -2]\n",
            " [-3 -4]]\n"
          ]
        }
      ],
      "source": [
        "#Code here\n",
        "import numpy as np\n",
        "\n",
        "# Accept two matrices\n",
        "matrix1 = np.array([[1, 2], [3, 4]])\n",
        "matrix2 = np.array([[2, 4], [6, 8]])\n",
        "\n",
        "print(\"Matrix 1:\")\n",
        "print(matrix1)\n",
        "print(\"\\nMatrix 2:\")\n",
        "print(matrix2)\n",
        "\n",
        "# Sum of the two matrices\n",
        "sum_matrix = matrix1 + matrix2\n",
        "print(\"\\nSum of the matrices:\")\n",
        "print(sum_matrix)\n",
        "\n",
        "# Subtraction of the two matrices\n",
        "subtraction_matrix = matrix1 - matrix2\n",
        "print(\"\\nSubtraction of the matrices:\")\n",
        "print(subtraction_matrix)"
      ]
    },
    {
      "cell_type": "markdown",
      "metadata": {
        "id": "e8iqIwlxloTZ"
      },
      "source": [
        "___\n",
        "**Write a program to generate a ranodom matrix of size 5 X 6. Add another row containing random elements to it. Find the sum of each row.**"
      ]
    },
    {
      "cell_type": "code",
      "execution_count": 4,
      "metadata": {
        "colab": {
          "base_uri": "https://localhost:8080/"
        },
        "id": "RFvvJzj3loTZ",
        "outputId": "e22c928d-98fd-4912-e79b-2ccc7e93148f"
      },
      "outputs": [
        {
          "name": "stdout",
          "output_type": "stream",
          "text": [
            "Original 5x6 Random Matrix:\n",
            "[[0.11287158 0.13063346 0.03875053 0.07981425 0.2813785  0.97579217]\n",
            " [0.50147194 0.17935729 0.02820572 0.68276827 0.76558284 0.47590234]\n",
            " [0.20501672 0.43693453 0.59132186 0.24132745 0.06973967 0.68135546]\n",
            " [0.72370213 0.71239535 0.41493379 0.95723164 0.35587858 0.33995219]\n",
            " [0.24676511 0.93954831 0.25686566 0.10855873 0.41169367 0.73468343]]\n",
            "\n",
            "Matrix with a new row added:\n",
            "[[0.11287158 0.13063346 0.03875053 0.07981425 0.2813785  0.97579217]\n",
            " [0.50147194 0.17935729 0.02820572 0.68276827 0.76558284 0.47590234]\n",
            " [0.20501672 0.43693453 0.59132186 0.24132745 0.06973967 0.68135546]\n",
            " [0.72370213 0.71239535 0.41493379 0.95723164 0.35587858 0.33995219]\n",
            " [0.24676511 0.93954831 0.25686566 0.10855873 0.41169367 0.73468343]\n",
            " [0.58137231 0.97857092 0.30304604 0.71459887 0.46087155 0.09464728]]\n",
            "\n",
            "Sum of each row:\n",
            "[1.61924049 2.63328841 2.22569569 3.50409368 2.69811491 3.13310697]\n"
          ]
        }
      ],
      "source": [
        "#Code here\n",
        "import numpy as np\n",
        "\n",
        "# Generate a random matrix of size 5x6\n",
        "random_matrix = np.random.rand(5, 6)\n",
        "print(\"Original 5x6 Random Matrix:\")\n",
        "print(random_matrix)\n",
        "\n",
        "# Add another row of random elements\n",
        "new_row = np.random.rand(1, 6)\n",
        "matrix_with_new_row = np.vstack((random_matrix, new_row))\n",
        "print(\"\\nMatrix with a new row added:\")\n",
        "print(matrix_with_new_row)\n",
        "\n",
        "# Find the sum of each row\n",
        "row_sums = np.sum(matrix_with_new_row, axis=1)\n",
        "print(\"\\nSum of each row:\")\n",
        "print(row_sums)"
      ]
    },
    {
      "cell_type": "markdown",
      "metadata": {
        "id": "CIhpDElPloTZ"
      },
      "source": [
        "___\n",
        "**Write a program to generate a ranodm integer matrix of size 5 X 6. Add another column containing random integers to it. Compute the sine of each element and print it**"
      ]
    },
    {
      "cell_type": "code",
      "execution_count": 5,
      "metadata": {
        "colab": {
          "base_uri": "https://localhost:8080/"
        },
        "id": "HXJgYMTDloTZ",
        "outputId": "dc5d3842-1073-4abe-e9f9-767d3c808dae"
      },
      "outputs": [
        {
          "name": "stdout",
          "output_type": "stream",
          "text": [
            "Original 5x6 Random Integer Matrix:\n",
            "[[3 9 6 7 7 6]\n",
            " [5 9 8 5 9 7]\n",
            " [8 6 8 3 8 9]\n",
            " [7 1 7 1 5 8]\n",
            " [6 4 9 7 2 6]]\n",
            "\n",
            "Matrix with a new column added:\n",
            "[[3 9 6 7 7 6 8]\n",
            " [5 9 8 5 9 7 9]\n",
            " [8 6 8 3 8 9 1]\n",
            " [7 1 7 1 5 8 8]\n",
            " [6 4 9 7 2 6 8]]\n",
            "\n",
            "Sine of each element in the new matrix:\n",
            "[[ 0.14112001  0.41211849 -0.2794155   0.6569866   0.6569866  -0.2794155\n",
            "   0.98935825]\n",
            " [-0.95892427  0.41211849  0.98935825 -0.95892427  0.41211849  0.6569866\n",
            "   0.41211849]\n",
            " [ 0.98935825 -0.2794155   0.98935825  0.14112001  0.98935825  0.41211849\n",
            "   0.84147098]\n",
            " [ 0.6569866   0.84147098  0.6569866   0.84147098 -0.95892427  0.98935825\n",
            "   0.98935825]\n",
            " [-0.2794155  -0.7568025   0.41211849  0.6569866   0.90929743 -0.2794155\n",
            "   0.98935825]]\n"
          ]
        }
      ],
      "source": [
        "#Code here\n",
        "import numpy as np\n",
        "\n",
        "# Generate a random integer matrix of size 5x6\n",
        "random_int_matrix = np.random.randint(0, 10, size=(5, 6))\n",
        "print(\"Original 5x6 Random Integer Matrix:\")\n",
        "print(random_int_matrix)\n",
        "\n",
        "# Add another column of random integers\n",
        "new_column = np.random.randint(0, 10, size=(5, 1))\n",
        "matrix_with_new_column = np.hstack((random_int_matrix, new_column))\n",
        "print(\"\\nMatrix with a new column added:\")\n",
        "print(matrix_with_new_column)\n",
        "\n",
        "# Compute the sine of each element\n",
        "sine_matrix = np.sin(matrix_with_new_column)\n",
        "print(\"\\nSine of each element in the new matrix:\")\n",
        "print(sine_matrix)"
      ]
    },
    {
      "cell_type": "markdown",
      "metadata": {
        "id": "-St006l8loTZ"
      },
      "source": [
        "___\n",
        "**Write a program to generate a ranodm matrix of size 5 X 6. Consider the 3rd and 4th row; and 2nd, 3rd and 4th column and print the resultant matrix using slicing**"
      ]
    },
    {
      "cell_type": "code",
      "execution_count": 6,
      "metadata": {
        "colab": {
          "base_uri": "https://localhost:8080/"
        },
        "id": "SUSwF0zRloTZ",
        "outputId": "87ac3d9e-4da9-420d-9201-3887cc1ca3b4"
      },
      "outputs": [
        {
          "name": "stdout",
          "output_type": "stream",
          "text": [
            "Original 5x6 Random Matrix:\n",
            "[[0.92850419 0.67032145 0.40464706 0.79323039 0.58383012 0.8656249 ]\n",
            " [0.0041371  0.43147993 0.29980791 0.28158629 0.22482634 0.73681496]\n",
            " [0.27217337 0.19585395 0.8322697  0.69624183 0.43492373 0.26370016]\n",
            " [0.48427064 0.62921671 0.61279072 0.34863598 0.81957277 0.3847542 ]\n",
            " [0.19148263 0.4101465  0.75414266 0.32349741 0.7908101  0.94944306]]\n",
            "\n",
            "Sliced Matrix (rows 3-4, columns 2-4):\n",
            "[[0.19585395 0.8322697  0.69624183]\n",
            " [0.62921671 0.61279072 0.34863598]]\n"
          ]
        }
      ],
      "source": [
        "#Code here\n",
        "import numpy as np\n",
        "\n",
        "# Generate a random matrix of size 5x6\n",
        "random_matrix = np.random.rand(5, 6)\n",
        "print(\"Original 5x6 Random Matrix:\")\n",
        "print(random_matrix)\n",
        "\n",
        "# Slice the matrix: 3rd and 4th rows (index 2 and 3) and 2nd, 3rd, and 4th columns (index 1, 2, and 3)\n",
        "sliced_matrix = random_matrix[2:4, 1:4]\n",
        "print(\"\\nSliced Matrix (rows 3-4, columns 2-4):\")\n",
        "print(sliced_matrix)"
      ]
    },
    {
      "cell_type": "markdown",
      "metadata": {
        "id": "np6xZQWTloTa"
      },
      "source": [
        "### Great Job!"
      ]
    }
  ],
  "metadata": {
    "colab": {
      "provenance": []
    },
    "kernelspec": {
      "display_name": "Python 3 (ipykernel)",
      "language": "python",
      "name": "python3"
    },
    "language_info": {
      "codemirror_mode": {
        "name": "ipython",
        "version": 3
      },
      "file_extension": ".py",
      "mimetype": "text/x-python",
      "name": "python",
      "nbconvert_exporter": "python",
      "pygments_lexer": "ipython3",
      "version": "3.11.7"
    }
  },
  "nbformat": 4,
  "nbformat_minor": 0
}
