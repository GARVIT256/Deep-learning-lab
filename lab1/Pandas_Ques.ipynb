{
  "cells": [
    {
      "cell_type": "markdown",
      "metadata": {
        "id": "qcV0GNfbm2MC"
      },
      "source": [
        "______\n",
        "**1. Write a program to initialize a dictionary (of your choice) and create a pandas DataFrame from it. Print the dataframe?**"
      ]
    },
    {
      "cell_type": "code",
      "execution_count": 22,
      "metadata": {
        "colab": {
          "base_uri": "https://localhost:8080/"
        },
        "id": "b8TpzXd5m2MD",
        "outputId": "bf4b170a-443d-4961-dbff-f63d3db3ee27"
      },
      "outputs": [
        {
          "name": "stdout",
          "output_type": "stream",
          "text": [
            "    Fruit   Color  Price\n",
            "0   Apple     Red    1.2\n",
            "1  Banana  Yellow    0.5\n",
            "2  Cherry     Red    2.5\n",
            "3    Date   Brown    3.0\n"
          ]
        }
      ],
      "source": [
        "#Code here\n",
        "import pandas as pd\n",
        "\n",
        "# Initialize a dictionary\n",
        "data = {\n",
        "    'Fruit': ['Apple', 'Banana', 'Cherry', 'Date'],\n",
        "    'Color': ['Red', 'Yellow', 'Red', 'Brown'],\n",
        "    'Price': [1.2, 0.5, 2.5, 3.0]\n",
        "}\n",
        "\n",
        "# Create a pandas DataFrame from the dictionary\n",
        "df_fruits = pd.DataFrame(data)\n",
        "\n",
        "# Print the DataFrame\n",
        "print(df_fruits)\n"
      ]
    },
    {
      "cell_type": "markdown",
      "metadata": {
        "id": "TKhMaxxZm2MD"
      },
      "source": [
        "___\n",
        "**2. Write a program to read the CSV file \"summer.csv\" into a pandas DataFrame \"df\", display the first 5 rows, and print the DataFrame's shape**"
      ]
    },
    {
      "cell_type": "code",
      "execution_count": 23,
      "metadata": {
        "colab": {
          "base_uri": "https://localhost:8080/"
        },
        "id": "X3KlxWcfm2MD",
        "outputId": "2427e0ff-2a70-4b0b-e6e3-8ebec48accae"
      },
      "outputs": [
        {
          "name": "stdout",
          "output_type": "stream",
          "text": [
            "First 5 rows of the DataFrame:\n",
            "   Year    City     Sport Discipline             Athlete Country Gender  \\\n",
            "0  1896  Athens  Aquatics   Swimming       HAJOS, Alfred     HUN    Men   \n",
            "1  1896  Athens  Aquatics   Swimming    HERSCHMANN, Otto     AUT    Men   \n",
            "2  1896  Athens  Aquatics   Swimming   DRIVAS, Dimitrios     GRE    Men   \n",
            "3  1896  Athens  Aquatics   Swimming  MALOKINIS, Ioannis     GRE    Men   \n",
            "4  1896  Athens  Aquatics   Swimming  CHASAPIS, Spiridon     GRE    Men   \n",
            "\n",
            "                        Event   Medal  \n",
            "0              100M Freestyle    Gold  \n",
            "1              100M Freestyle  Silver  \n",
            "2  100M Freestyle For Sailors  Bronze  \n",
            "3  100M Freestyle For Sailors    Gold  \n",
            "4  100M Freestyle For Sailors  Silver  \n",
            "\n",
            "Shape of the DataFrame:\n",
            "(31165, 9)\n"
          ]
        }
      ],
      "source": [
        "#Code here\n",
        "import pandas as pd\n",
        "\n",
        "# Read the CSV file into a DataFrame\n",
        "try:\n",
        "    df = pd.read_csv('summer.csv')\n",
        "\n",
        "    # Display the first 5 rows\n",
        "    print(\"First 5 rows of the DataFrame:\")\n",
        "    print(df.head())\n",
        "\n",
        "    # Print the DataFrame's shape\n",
        "    print(\"\\nShape of the DataFrame:\")\n",
        "    print(df.shape)\n",
        "\n",
        "except FileNotFoundError:\n",
        "    print(\"Error: 'summer.csv' not found. Please make sure the file is in the correct directory.\")"
      ]
    },
    {
      "cell_type": "markdown",
      "metadata": {
        "id": "hhREPppvm2MD"
      },
      "source": [
        "___\n",
        "**3. Write a program to display the last 10 rows of the DataFrame?**"
      ]
    },
    {
      "cell_type": "code",
      "execution_count": 24,
      "metadata": {
        "colab": {
          "base_uri": "https://localhost:8080/"
        },
        "id": "0LMVJXRPm2ME",
        "outputId": "f4cd75d3-7dda-4345-8f04-a1fd253461ec"
      },
      "outputs": [
        {
          "name": "stdout",
          "output_type": "stream",
          "text": [
            "Last 10 rows of the DataFrame:\n",
            "       Year    City      Sport           Discipline  \\\n",
            "31155  2012  London  Wrestling  Wrestling Freestyle   \n",
            "31156  2012  London  Wrestling  Wrestling Freestyle   \n",
            "31157  2012  London  Wrestling  Wrestling Freestyle   \n",
            "31158  2012  London  Wrestling  Wrestling Freestyle   \n",
            "31159  2012  London  Wrestling  Wrestling Freestyle   \n",
            "31160  2012  London  Wrestling  Wrestling Freestyle   \n",
            "31161  2012  London  Wrestling  Wrestling Freestyle   \n",
            "31162  2012  London  Wrestling  Wrestling Freestyle   \n",
            "31163  2012  London  Wrestling  Wrestling Freestyle   \n",
            "31164  2012  London  Wrestling  Wrestling Freestyle   \n",
            "\n",
            "                            Athlete Country Gender     Event   Medal  \n",
            "31155                 AHMADOV, Emin     AZE    Men  Wg 74 KG  Bronze  \n",
            "31156          KAZAKEVIC, Aleksandr     LTU    Men  Wg 74 KG  Bronze  \n",
            "31157                 KHUGAEV, Alan     RUS    Men  Wg 84 KG    Gold  \n",
            "31158  EBRAHIM, Karam Mohamed Gaber     EGY    Men  Wg 84 KG  Silver  \n",
            "31159               GAJIYEV, Danyal     KAZ    Men  Wg 84 KG  Bronze  \n",
            "31160            JANIKOWSKI, Damian     POL    Men  Wg 84 KG  Bronze  \n",
            "31161     REZAEI, Ghasem Gholamreza     IRI    Men  Wg 96 KG    Gold  \n",
            "31162                TOTROV, Rustam     RUS    Men  Wg 96 KG  Silver  \n",
            "31163             ALEKSANYAN, Artur     ARM    Men  Wg 96 KG  Bronze  \n",
            "31164                LIDBERG, Jimmy     SWE    Men  Wg 96 KG  Bronze  \n"
          ]
        }
      ],
      "source": [
        "#Code here\n",
        "import pandas as pd\n",
        "\n",
        "# Assuming 'df' is already loaded from the previous question\n",
        "try:\n",
        "    df = pd.read_csv('summer.csv')\n",
        "\n",
        "    # Display the last 10 rows\n",
        "    print(\"Last 10 rows of the DataFrame:\")\n",
        "    print(df.tail(10))\n",
        "\n",
        "except FileNotFoundError:\n",
        "    print(\"Error: 'summer.csv' not found. Please make sure the file is in the correct directory.\")"
      ]
    },
    {
      "cell_type": "markdown",
      "metadata": {
        "id": "F53jodYXm2ME"
      },
      "source": [
        "___\n",
        "**4. Write a program to get a summary of the DataFrame (such as the mean, count, etc.) and print the data types of all columns?**"
      ]
    },
    {
      "cell_type": "code",
      "execution_count": 25,
      "metadata": {
        "colab": {
          "base_uri": "https://localhost:8080/"
        },
        "id": "Jf8-scn7m2ME",
        "outputId": "978181cc-b647-4f50-a16c-6aff4f656c85"
      },
      "outputs": [
        {
          "name": "stdout",
          "output_type": "stream",
          "text": [
            "Statistical summary of the DataFrame:\n",
            "               Year\n",
            "count  31165.000000\n",
            "mean    1970.482785\n",
            "std       33.158416\n",
            "min     1896.000000\n",
            "25%     1948.000000\n",
            "50%     1980.000000\n",
            "75%     2000.000000\n",
            "max     2012.000000\n",
            "\n",
            "Data types of all columns:\n",
            "<class 'pandas.core.frame.DataFrame'>\n",
            "RangeIndex: 31165 entries, 0 to 31164\n",
            "Data columns (total 9 columns):\n",
            " #   Column      Non-Null Count  Dtype \n",
            "---  ------      --------------  ----- \n",
            " 0   Year        31165 non-null  int64 \n",
            " 1   City        31165 non-null  object\n",
            " 2   Sport       31165 non-null  object\n",
            " 3   Discipline  31165 non-null  object\n",
            " 4   Athlete     31165 non-null  object\n",
            " 5   Country     31161 non-null  object\n",
            " 6   Gender      31165 non-null  object\n",
            " 7   Event       31165 non-null  object\n",
            " 8   Medal       31165 non-null  object\n",
            "dtypes: int64(1), object(8)\n",
            "memory usage: 2.1+ MB\n",
            "None\n"
          ]
        }
      ],
      "source": [
        "#Code here\n",
        "import pandas as pd\n",
        "\n",
        "try:\n",
        "    df = pd.read_csv('summer.csv')\n",
        "\n",
        "    # Get a summary of the DataFrame\n",
        "    print(\"Statistical summary of the DataFrame:\")\n",
        "    print(df.describe())\n",
        "\n",
        "    # Print the data types of all columns\n",
        "    print(\"\\nData types of all columns:\")\n",
        "    print(df.info())\n",
        "\n",
        "except FileNotFoundError:\n",
        "    print(\"Error: 'summer.csv' not found. Please make sure the file is in the correct directory.\")"
      ]
    },
    {
      "cell_type": "markdown",
      "metadata": {
        "id": "1Qa4jQAlm2ME"
      },
      "source": [
        "___\n",
        "**5. Write a program to select a single column \"Gender\" from the DataFrame?**"
      ]
    },
    {
      "cell_type": "code",
      "execution_count": 26,
      "metadata": {
        "colab": {
          "base_uri": "https://localhost:8080/"
        },
        "id": "kVCfVte4m2ME",
        "outputId": "32a6b126-a3ff-41f3-9945-11b2761e26e8"
      },
      "outputs": [
        {
          "name": "stdout",
          "output_type": "stream",
          "text": [
            "The 'Gender' column:\n",
            "0        Men\n",
            "1        Men\n",
            "2        Men\n",
            "3        Men\n",
            "4        Men\n",
            "        ... \n",
            "31160    Men\n",
            "31161    Men\n",
            "31162    Men\n",
            "31163    Men\n",
            "31164    Men\n",
            "Name: Gender, Length: 31165, dtype: object\n"
          ]
        }
      ],
      "source": [
        "#Code here\n",
        "import pandas as pd\n",
        "\n",
        "try:\n",
        "    df = pd.read_csv('summer.csv')\n",
        "\n",
        "    # Select the \"Gender\" column\n",
        "    gender_column = df['Gender']\n",
        "\n",
        "    # Print the selected column\n",
        "    print(\"The 'Gender' column:\")\n",
        "    print(gender_column)\n",
        "\n",
        "except FileNotFoundError:\n",
        "    print(\"Error: 'summer.csv' not found. Please make sure the file is in the correct directory.\")"
      ]
    },
    {
      "cell_type": "markdown",
      "metadata": {
        "id": "rxmLBA_5m2ME"
      },
      "source": [
        "___\n",
        "**6. Write a program to select multiple columns \"Year\" and \"City\" from the DataFrame?**"
      ]
    },
    {
      "cell_type": "code",
      "execution_count": 27,
      "metadata": {
        "colab": {
          "base_uri": "https://localhost:8080/"
        },
        "id": "HgDXSaBzm2ME",
        "outputId": "aeed1ddb-13cf-4e6f-e304-d49b9f15411e"
      },
      "outputs": [
        {
          "name": "stdout",
          "output_type": "stream",
          "text": [
            "The 'Year' and 'City' columns:\n",
            "       Year    City\n",
            "0      1896  Athens\n",
            "1      1896  Athens\n",
            "2      1896  Athens\n",
            "3      1896  Athens\n",
            "4      1896  Athens\n",
            "...     ...     ...\n",
            "31160  2012  London\n",
            "31161  2012  London\n",
            "31162  2012  London\n",
            "31163  2012  London\n",
            "31164  2012  London\n",
            "\n",
            "[31165 rows x 2 columns]\n"
          ]
        }
      ],
      "source": [
        "#Code here\n",
        "import pandas as pd\n",
        "\n",
        "try:\n",
        "    df = pd.read_csv('summer.csv')\n",
        "\n",
        "    # Select multiple columns \"Year\" and \"City\"\n",
        "    year_city_df = df[['Year', 'City']]\n",
        "\n",
        "    # Print the resulting DataFrame\n",
        "    print(\"The 'Year' and 'City' columns:\")\n",
        "    print(year_city_df)\n",
        "\n",
        "except FileNotFoundError:\n",
        "    print(\"Error: 'summer.csv' not found. Please make sure the file is in the correct directory.\")"
      ]
    },
    {
      "cell_type": "markdown",
      "metadata": {
        "id": "RR621DH9m2ME"
      },
      "source": [
        "___\n",
        "**7. Write a program to  filter rows in a DataFrame based on the condition that Gender = Men ?**"
      ]
    },
    {
      "cell_type": "code",
      "execution_count": 28,
      "metadata": {
        "colab": {
          "base_uri": "https://localhost:8080/"
        },
        "id": "-6jOhf_qm2ME",
        "outputId": "219222b8-9793-41c6-891d-b12477d40827"
      },
      "outputs": [
        {
          "name": "stdout",
          "output_type": "stream",
          "text": [
            "Rows where Gender is 'Men':\n",
            "       Year    City      Sport           Discipline  \\\n",
            "0      1896  Athens   Aquatics             Swimming   \n",
            "1      1896  Athens   Aquatics             Swimming   \n",
            "2      1896  Athens   Aquatics             Swimming   \n",
            "3      1896  Athens   Aquatics             Swimming   \n",
            "4      1896  Athens   Aquatics             Swimming   \n",
            "...     ...     ...        ...                  ...   \n",
            "31160  2012  London  Wrestling  Wrestling Freestyle   \n",
            "31161  2012  London  Wrestling  Wrestling Freestyle   \n",
            "31162  2012  London  Wrestling  Wrestling Freestyle   \n",
            "31163  2012  London  Wrestling  Wrestling Freestyle   \n",
            "31164  2012  London  Wrestling  Wrestling Freestyle   \n",
            "\n",
            "                         Athlete Country Gender                       Event  \\\n",
            "0                  HAJOS, Alfred     HUN    Men              100M Freestyle   \n",
            "1               HERSCHMANN, Otto     AUT    Men              100M Freestyle   \n",
            "2              DRIVAS, Dimitrios     GRE    Men  100M Freestyle For Sailors   \n",
            "3             MALOKINIS, Ioannis     GRE    Men  100M Freestyle For Sailors   \n",
            "4             CHASAPIS, Spiridon     GRE    Men  100M Freestyle For Sailors   \n",
            "...                          ...     ...    ...                         ...   \n",
            "31160         JANIKOWSKI, Damian     POL    Men                    Wg 84 KG   \n",
            "31161  REZAEI, Ghasem Gholamreza     IRI    Men                    Wg 96 KG   \n",
            "31162             TOTROV, Rustam     RUS    Men                    Wg 96 KG   \n",
            "31163          ALEKSANYAN, Artur     ARM    Men                    Wg 96 KG   \n",
            "31164             LIDBERG, Jimmy     SWE    Men                    Wg 96 KG   \n",
            "\n",
            "        Medal  \n",
            "0        Gold  \n",
            "1      Silver  \n",
            "2      Bronze  \n",
            "3        Gold  \n",
            "4      Silver  \n",
            "...       ...  \n",
            "31160  Bronze  \n",
            "31161    Gold  \n",
            "31162  Silver  \n",
            "31163  Bronze  \n",
            "31164  Bronze  \n",
            "\n",
            "[22746 rows x 9 columns]\n"
          ]
        }
      ],
      "source": [
        "#Code here\n",
        "import pandas as pd\n",
        "\n",
        "try:\n",
        "    df = pd.read_csv('summer.csv')\n",
        "\n",
        "    # Filter rows where Gender is 'Men'\n",
        "    men_df = df[df['Gender'] == 'Men']\n",
        "\n",
        "    # Print the filtered DataFrame\n",
        "    print(\"Rows where Gender is 'Men':\")\n",
        "    print(men_df)\n",
        "\n",
        "except FileNotFoundError:\n",
        "    print(\"Error: 'summer.csv' not found. Please make sure the file is in the correct directory.\")"
      ]
    },
    {
      "cell_type": "markdown",
      "metadata": {
        "id": "24rVH2uLm2ME"
      },
      "source": [
        "___\n",
        "**8. Write a program to select and print the first 5 rows and columns 2 to 6 (inclusive) of the DataFrame. Also, print the type of the resulting object?**"
      ]
    },
    {
      "cell_type": "code",
      "execution_count": 29,
      "metadata": {
        "colab": {
          "base_uri": "https://localhost:8080/"
        },
        "id": "fc1kT-pam2ME",
        "outputId": "99accb29-3edb-4a13-f5b9-7e1ee599afb9"
      },
      "outputs": [
        {
          "name": "stdout",
          "output_type": "stream",
          "text": [
            "Selected data (first 5 rows, columns 2-6):\n",
            "      Sport Discipline             Athlete Country Gender\n",
            "0  Aquatics   Swimming       HAJOS, Alfred     HUN    Men\n",
            "1  Aquatics   Swimming    HERSCHMANN, Otto     AUT    Men\n",
            "2  Aquatics   Swimming   DRIVAS, Dimitrios     GRE    Men\n",
            "3  Aquatics   Swimming  MALOKINIS, Ioannis     GRE    Men\n",
            "4  Aquatics   Swimming  CHASAPIS, Spiridon     GRE    Men\n",
            "\n",
            "Type of the resulting object: <class 'pandas.core.frame.DataFrame'>\n"
          ]
        }
      ],
      "source": [
        "#Code here\n",
        "import pandas as pd\n",
        "\n",
        "try:\n",
        "    df = pd.read_csv('summer.csv')\n",
        "\n",
        "    # Select first 5 rows and columns 2 to 6 (inclusive) using .iloc\n",
        "    selected_data = df.iloc[0:5, 2:7]  # iloc is exclusive on the end index\n",
        "\n",
        "    # Print the resulting object\n",
        "    print(\"Selected data (first 5 rows, columns 2-6):\")\n",
        "    print(selected_data)\n",
        "\n",
        "    # Print the type of the resulting object\n",
        "    print(\"\\nType of the resulting object:\", type(selected_data))\n",
        "\n",
        "except FileNotFoundError:\n",
        "    print(\"Error: 'summer.csv' not found. Please make sure the file is in the correct directory.\")"
      ]
    },
    {
      "cell_type": "markdown",
      "metadata": {
        "id": "HIQHrOp9m2MF"
      },
      "source": [
        "___\n",
        "**9. Write a program to  delete a column \"City\" from the DataFrame and print the new dataframe??**"
      ]
    },
    {
      "cell_type": "code",
      "execution_count": 30,
      "metadata": {
        "colab": {
          "base_uri": "https://localhost:8080/"
        },
        "id": "Vj7EGDH1m2MF",
        "outputId": "38f53846-9e15-4e50-a78d-86dd241b408a"
      },
      "outputs": [
        {
          "name": "stdout",
          "output_type": "stream",
          "text": [
            "Original DataFrame columns: ['Year', 'City', 'Sport', 'Discipline', 'Athlete', 'Country', 'Gender', 'Event', 'Medal']\n",
            "\n",
            "DataFrame after deleting 'City' column:\n",
            "   Year     Sport Discipline             Athlete Country Gender  \\\n",
            "0  1896  Aquatics   Swimming       HAJOS, Alfred     HUN    Men   \n",
            "1  1896  Aquatics   Swimming    HERSCHMANN, Otto     AUT    Men   \n",
            "2  1896  Aquatics   Swimming   DRIVAS, Dimitrios     GRE    Men   \n",
            "3  1896  Aquatics   Swimming  MALOKINIS, Ioannis     GRE    Men   \n",
            "4  1896  Aquatics   Swimming  CHASAPIS, Spiridon     GRE    Men   \n",
            "\n",
            "                        Event   Medal  \n",
            "0              100M Freestyle    Gold  \n",
            "1              100M Freestyle  Silver  \n",
            "2  100M Freestyle For Sailors  Bronze  \n",
            "3  100M Freestyle For Sailors    Gold  \n",
            "4  100M Freestyle For Sailors  Silver  \n",
            "\n",
            "New DataFrame columns: ['Year', 'Sport', 'Discipline', 'Athlete', 'Country', 'Gender', 'Event', 'Medal']\n"
          ]
        }
      ],
      "source": [
        "#Code here\n",
        "import pandas as pd\n",
        "\n",
        "try:\n",
        "    df = pd.read_csv('summer.csv')\n",
        "    print(\"Original DataFrame columns:\", df.columns.tolist())\n",
        "\n",
        "    # Delete the \"City\" column\n",
        "    df.drop('City', axis=1, inplace=True)\n",
        "\n",
        "    # Print the new DataFrame to verify the change\n",
        "    print(\"\\nDataFrame after deleting 'City' column:\")\n",
        "    print(df.head())\n",
        "    print(\"\\nNew DataFrame columns:\", df.columns.tolist())\n",
        "\n",
        "except FileNotFoundError:\n",
        "    print(\"Error: 'summer.csv' not found. Please make sure the file is in the correct directory.\")"
      ]
    },
    {
      "cell_type": "markdown",
      "metadata": {
        "id": "oxocLbZEm2MF"
      },
      "source": [
        "___\n",
        "**10. Write a program to  rename a column \"Athlete\" to \"Participants\" in the DataFrame?**"
      ]
    },
    {
      "cell_type": "code",
      "execution_count": 31,
      "metadata": {
        "colab": {
          "base_uri": "https://localhost:8080/"
        },
        "id": "HD5JU-J7m2MF",
        "outputId": "b3628633-329f-4ef0-9d50-4bcbd0e188a8"
      },
      "outputs": [
        {
          "name": "stdout",
          "output_type": "stream",
          "text": [
            "Original column names: ['Year', 'City', 'Sport', 'Discipline', 'Athlete', 'Country', 'Gender', 'Event', 'Medal']\n",
            "\n",
            "DataFrame after renaming 'Athlete' to 'Participants':\n",
            "   Year    City     Sport Discipline        Participants Country Gender  \\\n",
            "0  1896  Athens  Aquatics   Swimming       HAJOS, Alfred     HUN    Men   \n",
            "1  1896  Athens  Aquatics   Swimming    HERSCHMANN, Otto     AUT    Men   \n",
            "2  1896  Athens  Aquatics   Swimming   DRIVAS, Dimitrios     GRE    Men   \n",
            "3  1896  Athens  Aquatics   Swimming  MALOKINIS, Ioannis     GRE    Men   \n",
            "4  1896  Athens  Aquatics   Swimming  CHASAPIS, Spiridon     GRE    Men   \n",
            "\n",
            "                        Event   Medal  \n",
            "0              100M Freestyle    Gold  \n",
            "1              100M Freestyle  Silver  \n",
            "2  100M Freestyle For Sailors  Bronze  \n",
            "3  100M Freestyle For Sailors    Gold  \n",
            "4  100M Freestyle For Sailors  Silver  \n",
            "\n",
            "New column names: ['Year', 'City', 'Sport', 'Discipline', 'Participants', 'Country', 'Gender', 'Event', 'Medal']\n"
          ]
        }
      ],
      "source": [
        "#Code here\n",
        "import pandas as pd\n",
        "\n",
        "try:\n",
        "    df = pd.read_csv('summer.csv')\n",
        "    print(\"Original column names:\", df.columns.tolist())\n",
        "\n",
        "    # Rename the \"Athlete\" column to \"Participants\"\n",
        "    df.rename(columns={'Athlete': 'Participants'}, inplace=True)\n",
        "\n",
        "    # Print the new column names to verify the change\n",
        "    print(\"\\nDataFrame after renaming 'Athlete' to 'Participants':\")\n",
        "    print(df.head())\n",
        "    print(\"\\nNew column names:\", df.columns.tolist())\n",
        "\n",
        "except FileNotFoundError:\n",
        "    print(\"Error: 'summer.csv' not found. Please make sure the file is in the correct directory.\")"
      ]
    },
    {
      "cell_type": "markdown",
      "metadata": {
        "id": "bvpYy245m2MF"
      },
      "source": [
        "___\n",
        "**11. Write a program to select and print the \"Participants\", \"Medal\" and \"Event\" columns for index 10 and 201 from the DataFrame.?**"
      ]
    },
    {
      "cell_type": "code",
      "execution_count": 32,
      "metadata": {
        "colab": {
          "base_uri": "https://localhost:8080/"
        },
        "id": "OSgRIQdpm2MF",
        "outputId": "ad97c4c0-d862-4637-e8b2-9e9c4e9fe5dd"
      },
      "outputs": [
        {
          "name": "stdout",
          "output_type": "stream",
          "text": [
            "Selected data for indices 10 and 201:\n",
            "          Participants   Medal           Event\n",
            "10   PEPANOS, Antonios  Silver  400M Freestyle\n",
            "201    LISTER, William    Gold      Water Polo\n"
          ]
        }
      ],
      "source": [
        "#Code here\n",
        "import pandas as pd\n",
        "\n",
        "try:\n",
        "    df = pd.read_csv('summer.csv')\n",
        "\n",
        "    # Rename Athlete column for consistency with the question\n",
        "    df.rename(columns={'Athlete': 'Participants'}, inplace=True)\n",
        "\n",
        "    # Select specific columns for indices 10 and 201\n",
        "    selected_data = df.loc[[10, 201], ['Participants', 'Medal', 'Event']]\n",
        "\n",
        "    # Print the results\n",
        "    print(\"Selected data for indices 10 and 201:\")\n",
        "    print(selected_data)\n",
        "\n",
        "except FileNotFoundError:\n",
        "    print(\"Error: 'summer.csv' not found. Please make sure the file is in the correct directory.\")"
      ]
    },
    {
      "cell_type": "markdown",
      "metadata": {
        "id": "Zunfeqkym2MF"
      },
      "source": [
        "___\n",
        "**12. Write a program to display the first 10 rows of the df DataFrame and check for any missing values in each column.?**"
      ]
    },
    {
      "cell_type": "code",
      "execution_count": 33,
      "metadata": {
        "colab": {
          "base_uri": "https://localhost:8080/"
        },
        "id": "i-sDeIWNm2MF",
        "outputId": "521c36b0-13cd-4082-eae3-fea324becd0d"
      },
      "outputs": [
        {
          "name": "stdout",
          "output_type": "stream",
          "text": [
            "First 10 rows of the DataFrame:\n",
            "   Year    City     Sport Discipline                Athlete Country Gender  \\\n",
            "0  1896  Athens  Aquatics   Swimming          HAJOS, Alfred     HUN    Men   \n",
            "1  1896  Athens  Aquatics   Swimming       HERSCHMANN, Otto     AUT    Men   \n",
            "2  1896  Athens  Aquatics   Swimming      DRIVAS, Dimitrios     GRE    Men   \n",
            "3  1896  Athens  Aquatics   Swimming     MALOKINIS, Ioannis     GRE    Men   \n",
            "4  1896  Athens  Aquatics   Swimming     CHASAPIS, Spiridon     GRE    Men   \n",
            "5  1896  Athens  Aquatics   Swimming  CHOROPHAS, Efstathios     GRE    Men   \n",
            "6  1896  Athens  Aquatics   Swimming          HAJOS, Alfred     HUN    Men   \n",
            "7  1896  Athens  Aquatics   Swimming       ANDREOU, Joannis     GRE    Men   \n",
            "8  1896  Athens  Aquatics   Swimming  CHOROPHAS, Efstathios     GRE    Men   \n",
            "9  1896  Athens  Aquatics   Swimming          NEUMANN, Paul     AUT    Men   \n",
            "\n",
            "                        Event   Medal  \n",
            "0              100M Freestyle    Gold  \n",
            "1              100M Freestyle  Silver  \n",
            "2  100M Freestyle For Sailors  Bronze  \n",
            "3  100M Freestyle For Sailors    Gold  \n",
            "4  100M Freestyle For Sailors  Silver  \n",
            "5             1200M Freestyle  Bronze  \n",
            "6             1200M Freestyle    Gold  \n",
            "7             1200M Freestyle  Silver  \n",
            "8              400M Freestyle  Bronze  \n",
            "9              400M Freestyle    Gold  \n",
            "\n",
            "Number of missing values in each column:\n",
            "Year          0\n",
            "City          0\n",
            "Sport         0\n",
            "Discipline    0\n",
            "Athlete       0\n",
            "Country       4\n",
            "Gender        0\n",
            "Event         0\n",
            "Medal         0\n",
            "dtype: int64\n"
          ]
        }
      ],
      "source": [
        "#Code here\n",
        "import pandas as pd\n",
        "\n",
        "try:\n",
        "    df = pd.read_csv('summer.csv')\n",
        "\n",
        "    # Display the first 10 rows\n",
        "    print(\"First 10 rows of the DataFrame:\")\n",
        "    print(df.head(10))\n",
        "\n",
        "    # Check for missing values in each column\n",
        "    print(\"\\nNumber of missing values in each column:\")\n",
        "    print(df.isnull().sum())\n",
        "\n",
        "except FileNotFoundError:\n",
        "    print(\"Error: 'summer.csv' not found. Please make sure the file is in the correct directory.\")"
      ]
    },
    {
      "cell_type": "markdown",
      "metadata": {
        "id": "CCLtjf9pm2MF"
      },
      "source": [
        "___\n",
        "**13. Write a program to select and print the \"Country\" and \"Medal\" columns from the df DataFrame, and then print the number of unique values in each of these columns.?**"
      ]
    },
    {
      "cell_type": "code",
      "execution_count": 34,
      "metadata": {
        "colab": {
          "base_uri": "https://localhost:8080/"
        },
        "id": "Zc5EF7Okm2MF",
        "outputId": "73b557fa-b57a-4561-a13d-f486fb31123b"
      },
      "outputs": [
        {
          "name": "stdout",
          "output_type": "stream",
          "text": [
            "Selected 'Country' and 'Medal' columns:\n",
            "  Country   Medal\n",
            "0     HUN    Gold\n",
            "1     AUT  Silver\n",
            "2     GRE  Bronze\n",
            "3     GRE    Gold\n",
            "4     GRE  Silver\n",
            "\n",
            "Number of unique values in 'Country' and 'Medal':\n",
            "Country    147\n",
            "Medal        3\n",
            "dtype: int64\n"
          ]
        }
      ],
      "source": [
        "#Code here\n",
        "import pandas as pd\n",
        "\n",
        "try:\n",
        "    df = pd.read_csv('summer.csv')\n",
        "\n",
        "    # Select \"Country\" and \"Medal\" columns\n",
        "    country_medal_df = df[['Country', 'Medal']]\n",
        "    print(\"Selected 'Country' and 'Medal' columns:\")\n",
        "    print(country_medal_df.head())\n",
        "\n",
        "    # Print the number of unique values in each column\n",
        "    print(\"\\nNumber of unique values in 'Country' and 'Medal':\")\n",
        "    print(country_medal_df.nunique())\n",
        "\n",
        "except FileNotFoundError:\n",
        "    print(\"Error: 'summer.csv' not found. Please make sure the file is in the correct directory.\")"
      ]
    },
    {
      "cell_type": "markdown",
      "metadata": {
        "id": "FWgnrlx4m2MF"
      },
      "source": [
        "___\n",
        "**14. Write a program to group the df DataFrame by the \"Country\" column and calculate the total number of medals for each country. Print the result.?**"
      ]
    },
    {
      "cell_type": "code",
      "execution_count": 35,
      "metadata": {
        "colab": {
          "base_uri": "https://localhost:8080/"
        },
        "id": "fRVgoVKhm2MG",
        "outputId": "29c3944f-e970-40c1-e664-f1a1e3488729"
      },
      "outputs": [
        {
          "name": "stdout",
          "output_type": "stream",
          "text": [
            "Total medals for each country:\n",
            "Country\n",
            "USA    4585\n",
            "URS    2049\n",
            "GBR    1720\n",
            "FRA    1396\n",
            "GER    1305\n",
            "       ... \n",
            "NIG       1\n",
            "TOG       1\n",
            "TGA       1\n",
            "SUD       1\n",
            "UAE       1\n",
            "Length: 147, dtype: int64\n"
          ]
        }
      ],
      "source": [
        "#Code here\n",
        "import pandas as pd\n",
        "\n",
        "try:\n",
        "    df = pd.read_csv('summer.csv')\n",
        "\n",
        "    # Group by \"Country\" and calculate total medals for each\n",
        "    medals_by_country = df.groupby('Country').size().sort_values(ascending=False)\n",
        "\n",
        "    # Print the results\n",
        "    print(\"Total medals for each country:\")\n",
        "    print(medals_by_country)\n",
        "\n",
        "except FileNotFoundError:\n",
        "    print(\"Error: 'summer.csv' not found. Please make sure the file is in the correct directory.\")"
      ]
    },
    {
      "cell_type": "markdown",
      "metadata": {
        "id": "Kr2Yrim7m2MG"
      },
      "source": [
        "___\n",
        "**15. Write a program to sort the df DataFrame by the \"Year\" column in descending order and print the first 5 rows of the sorted DataFrame.?**"
      ]
    },
    {
      "cell_type": "code",
      "execution_count": 36,
      "metadata": {
        "colab": {
          "base_uri": "https://localhost:8080/"
        },
        "id": "z7KZfXgxm2MG",
        "outputId": "0b1313dd-6063-4272-bd10-f845eb3373bf"
      },
      "outputs": [
        {
          "name": "stdout",
          "output_type": "stream",
          "text": [
            "First 5 rows sorted by 'Year' in descending order:\n",
            "       Year    City      Sport           Discipline  \\\n",
            "31141  2012  London  Wrestling  Wrestling Freestyle   \n",
            "31143  2012  London  Wrestling  Wrestling Freestyle   \n",
            "31164  2012  London  Wrestling  Wrestling Freestyle   \n",
            "31163  2012  London  Wrestling  Wrestling Freestyle   \n",
            "31162  2012  London  Wrestling  Wrestling Freestyle   \n",
            "\n",
            "                                 Athlete Country Gender     Event   Medal  \n",
            "31141  SORYAN REIHANPOUR, Hamid Mohammad     IRI    Men  Wg 55 KG    Gold  \n",
            "31143                       MODOS, Peter     HUN    Men  Wg 55 KG  Bronze  \n",
            "31164                     LIDBERG, Jimmy     SWE    Men  Wg 96 KG  Bronze  \n",
            "31163                  ALEKSANYAN, Artur     ARM    Men  Wg 96 KG  Bronze  \n",
            "31162                     TOTROV, Rustam     RUS    Men  Wg 96 KG  Silver  \n"
          ]
        }
      ],
      "source": [
        "#Code here\n",
        "import pandas as pd\n",
        "\n",
        "try:\n",
        "    df = pd.read_csv('summer.csv')\n",
        "\n",
        "    # Sort the DataFrame by \"Year\" in descending order\n",
        "    sorted_df = df.sort_values(by='Year', ascending=False)\n",
        "\n",
        "    # Print the first 5 rows of the sorted DataFrame\n",
        "    print(\"First 5 rows sorted by 'Year' in descending order:\")\n",
        "    print(sorted_df.head())\n",
        "\n",
        "except FileNotFoundError:\n",
        "    print(\"Error: 'summer.csv' not found. Please make sure the file is in the correct directory.\")"
      ]
    },
    {
      "cell_type": "markdown",
      "metadata": {
        "id": "h_C8jJjSm2MG"
      },
      "source": [
        "___\n",
        "**16. Write a program to add a new column \"Century\" to the df DataFrame. Classify each event as occurring in the \"20th Century\" if the \"Year\" is less than 2000, or the \"21st Century\" if the \"Year\" is 2000 or later. Print the first 5 rows to verify the change.**"
      ]
    },
    {
      "cell_type": "code",
      "execution_count": 37,
      "metadata": {
        "colab": {
          "base_uri": "https://localhost:8080/"
        },
        "id": "1-iS6bAim2MG",
        "outputId": "4fb8e623-8058-4fe8-e7d0-dbdfc636c369"
      },
      "outputs": [
        {
          "name": "stdout",
          "output_type": "stream",
          "text": [
            "First 5 rows with the new 'Century' column:\n",
            "   Year    City     Sport Discipline             Athlete Country Gender  \\\n",
            "0  1896  Athens  Aquatics   Swimming       HAJOS, Alfred     HUN    Men   \n",
            "1  1896  Athens  Aquatics   Swimming    HERSCHMANN, Otto     AUT    Men   \n",
            "2  1896  Athens  Aquatics   Swimming   DRIVAS, Dimitrios     GRE    Men   \n",
            "3  1896  Athens  Aquatics   Swimming  MALOKINIS, Ioannis     GRE    Men   \n",
            "4  1896  Athens  Aquatics   Swimming  CHASAPIS, Spiridon     GRE    Men   \n",
            "\n",
            "                        Event   Medal       Century  \n",
            "0              100M Freestyle    Gold  20th Century  \n",
            "1              100M Freestyle  Silver  20th Century  \n",
            "2  100M Freestyle For Sailors  Bronze  20th Century  \n",
            "3  100M Freestyle For Sailors    Gold  20th Century  \n",
            "4  100M Freestyle For Sailors  Silver  20th Century  \n"
          ]
        }
      ],
      "source": [
        "#Code here\n",
        "import pandas as pd\n",
        "\n",
        "try:\n",
        "    df = pd.read_csv('summer.csv')\n",
        "\n",
        "    # Add a new column \"Century\" based on the \"Year\"\n",
        "    df['Century'] = df['Year'].apply(lambda x: '21st Century' if x >= 2000 else '20th Century')\n",
        "\n",
        "    # Print the first 5 rows to verify the change\n",
        "    print(\"First 5 rows with the new 'Century' column:\")\n",
        "    print(df.head())\n",
        "\n",
        "except FileNotFoundError:\n",
        "    print(\"Error: 'summer.csv' not found. Please make sure the file is in the correct directory.\")"
      ]
    },
    {
      "cell_type": "markdown",
      "metadata": {
        "id": "BHc07ICSm2MH"
      },
      "source": [
        "___\n",
        "**17. Write a program to filter and print rows from the df DataFrame where the \"Country\" is \"USA\" and the \"Medal\" is \"Gold\". Also, count the number of rows that meet this condition.**"
      ]
    },
    {
      "cell_type": "code",
      "execution_count": 38,
      "metadata": {
        "colab": {
          "base_uri": "https://localhost:8080/"
        },
        "id": "m7C99lk_m2MH",
        "outputId": "a3876049-e8de-4af0-9ffc-0c283d9cde8e"
      },
      "outputs": [
        {
          "name": "stdout",
          "output_type": "stream",
          "text": [
            "Rows for USA Gold Medals:\n",
            "       Year    City       Sport           Discipline  \\\n",
            "13     1896  Athens   Athletics            Athletics   \n",
            "15     1896  Athens   Athletics            Athletics   \n",
            "21     1896  Athens   Athletics            Athletics   \n",
            "27     1896  Athens   Athletics            Athletics   \n",
            "29     1896  Athens   Athletics            Athletics   \n",
            "...     ...     ...         ...                  ...   \n",
            "30955  2012  London      Tennis               Tennis   \n",
            "30970  2012  London  Volleyball     Beach Volleyball   \n",
            "30971  2012  London  Volleyball     Beach Volleyball   \n",
            "31125  2012  London   Wrestling  Wrestling Freestyle   \n",
            "31133  2012  London   Wrestling  Wrestling Freestyle   \n",
            "\n",
            "                        Athlete Country Gender             Event Medal  \n",
            "13                BURKE, Thomas     USA    Men              100M  Gold  \n",
            "15               CURTIS, Thomas     USA    Men      110M Hurdles  Gold  \n",
            "21                BURKE, Thomas     USA    Men              400M  Gold  \n",
            "27              GARRETT, Robert     USA    Men      Discus Throw  Gold  \n",
            "29                CLARK, Ellery     USA    Men         High Jump  Gold  \n",
            "...                         ...     ...    ...               ...   ...  \n",
            "30955          WILLIAMS, Serena     USA  Women           Singles  Gold  \n",
            "30970                MAY, Misty     USA  Women  Beach Volleyball  Gold  \n",
            "30971     WALSH JENNINGS, Kerri     USA  Women  Beach Volleyball  Gold  \n",
            "31125  BURROUGHS, Jordan Ernest     USA    Men          Wf 74 KG  Gold  \n",
            "31133     VARNER, Jacob Stephen     USA    Men          Wf 96 KG  Gold  \n",
            "\n",
            "[2235 rows x 9 columns]\n",
            "\n",
            "Number of USA Gold Medals: 2235\n"
          ]
        }
      ],
      "source": [
        "#Code here\n",
        "import pandas as pd\n",
        "\n",
        "try:\n",
        "    df = pd.read_csv('summer.csv')\n",
        "\n",
        "    # Filter rows where \"Country\" is \"USA\" and \"Medal\" is \"Gold\"\n",
        "    usa_gold_medals = df[(df['Country'] == 'USA') & (df['Medal'] == 'Gold')]\n",
        "\n",
        "    # Print the filtered rows\n",
        "    print(\"Rows for USA Gold Medals:\")\n",
        "    print(usa_gold_medals)\n",
        "\n",
        "    # Count the number of rows that meet this condition\n",
        "    num_usa_gold_medals = len(usa_gold_medals)\n",
        "    print(f\"\\nNumber of USA Gold Medals: {num_usa_gold_medals}\")\n",
        "\n",
        "except FileNotFoundError:\n",
        "    print(\"Error: 'summer.csv' not found. Please make sure the file is in the correct directory.\")"
      ]
    },
    {
      "cell_type": "markdown",
      "metadata": {
        "id": "MhnhQ1Erm2MH"
      },
      "source": [
        "___\n",
        "**18. Write a program to create a new column \"Medal Points\" in the df DataFrame. Assign 3 points for \"Gold\", 2 points for \"Silver\", and 1 point for \"Bronze\". Print the first 5 rows to verify the changes.**"
      ]
    },
    {
      "cell_type": "code",
      "execution_count": 39,
      "metadata": {
        "colab": {
          "base_uri": "https://localhost:8080/"
        },
        "id": "6f_CLPsom2MH",
        "outputId": "1d82b2bb-3e70-4ac9-e5b8-4a9f24a4a115"
      },
      "outputs": [
        {
          "name": "stdout",
          "output_type": "stream",
          "text": [
            "First 5 rows with the new 'Medal Points' column:\n",
            "   Year    City     Sport Discipline             Athlete Country Gender  \\\n",
            "0  1896  Athens  Aquatics   Swimming       HAJOS, Alfred     HUN    Men   \n",
            "1  1896  Athens  Aquatics   Swimming    HERSCHMANN, Otto     AUT    Men   \n",
            "2  1896  Athens  Aquatics   Swimming   DRIVAS, Dimitrios     GRE    Men   \n",
            "3  1896  Athens  Aquatics   Swimming  MALOKINIS, Ioannis     GRE    Men   \n",
            "4  1896  Athens  Aquatics   Swimming  CHASAPIS, Spiridon     GRE    Men   \n",
            "\n",
            "                        Event   Medal  Medal Points  \n",
            "0              100M Freestyle    Gold             3  \n",
            "1              100M Freestyle  Silver             2  \n",
            "2  100M Freestyle For Sailors  Bronze             1  \n",
            "3  100M Freestyle For Sailors    Gold             3  \n",
            "4  100M Freestyle For Sailors  Silver             2  \n"
          ]
        }
      ],
      "source": [
        "#Code here\n",
        "import pandas as pd\n",
        "\n",
        "try:\n",
        "    df = pd.read_csv('summer.csv')\n",
        "\n",
        "    # Define a mapping for medal points\n",
        "    medal_points_map = {'Gold': 3, 'Silver': 2, 'Bronze': 1}\n",
        "\n",
        "    # Create the new \"Medal Points\" column\n",
        "    df['Medal Points'] = df['Medal'].map(medal_points_map)\n",
        "\n",
        "    # Print the first 5 rows to verify the change\n",
        "    print(\"First 5 rows with the new 'Medal Points' column:\")\n",
        "    print(df.head())\n",
        "\n",
        "except FileNotFoundError:\n",
        "    print(\"Error: 'summer.csv' not found. Please make sure the file is in the correct directory.\")"
      ]
    },
    {
      "cell_type": "markdown",
      "metadata": {
        "id": "_w8CAZoGm2MH"
      },
      "source": [
        "___\n",
        "**19. Write a program to filter the df DataFrame to include only rows where the \"Country\" is \"USA\". Then, group the filtered DataFrame by \"Year\" and calculate the total number of medals won by the USA each year. Print the results.**"
      ]
    },
    {
      "cell_type": "code",
      "execution_count": 40,
      "metadata": {
        "colab": {
          "base_uri": "https://localhost:8080/"
        },
        "id": "PZwGcKaEm2MH",
        "outputId": "5d3facc0-a6d2-45f6-c317-5283bdd270de"
      },
      "outputs": [
        {
          "name": "stdout",
          "output_type": "stream",
          "text": [
            "Total medals won by the USA each year:\n",
            "Year\n",
            "1896     20\n",
            "1900     55\n",
            "1904    394\n",
            "1908     63\n",
            "1912    101\n",
            "1920    193\n",
            "1924    198\n",
            "1928     84\n",
            "1932    181\n",
            "1936     92\n",
            "1948    148\n",
            "1952    130\n",
            "1956    118\n",
            "1960    112\n",
            "1964    150\n",
            "1968    149\n",
            "1972    155\n",
            "1976    155\n",
            "1984    333\n",
            "1988    193\n",
            "1992    224\n",
            "1996    260\n",
            "2000    248\n",
            "2004    264\n",
            "2008    315\n",
            "2012    250\n",
            "dtype: int64\n"
          ]
        }
      ],
      "source": [
        "#Code here\n",
        "import pandas as pd\n",
        "\n",
        "try:\n",
        "    df = pd.read_csv('summer.csv')\n",
        "\n",
        "    # Filter the DataFrame for \"USA\"\n",
        "    usa_df = df[df['Country'] == 'USA']\n",
        "\n",
        "    # Group the filtered DataFrame by \"Year\" and count medals\n",
        "    usa_medals_by_year = usa_df.groupby('Year').size()\n",
        "\n",
        "    # Print the results\n",
        "    print(\"Total medals won by the USA each year:\")\n",
        "    print(usa_medals_by_year)\n",
        "\n",
        "except FileNotFoundError:\n",
        "    print(\"Error: 'summer.csv' not found. Please make sure the file is in the correct directory.\")"
      ]
    },
    {
      "cell_type": "markdown",
      "metadata": {
        "id": "Fo3Zq-mTm2MH"
      },
      "source": [
        "___\n",
        "**20. Write a program to identify the athlete who has won the most medals. Display the athlete's name and the total number of medals they have won.**"
      ]
    },
    {
      "cell_type": "code",
      "execution_count": 41,
      "metadata": {
        "colab": {
          "base_uri": "https://localhost:8080/"
        },
        "id": "qF5-f6sKm2MH",
        "outputId": "648cbafb-077c-48fb-fd5a-e637a731cb9d"
      },
      "outputs": [
        {
          "name": "stdout",
          "output_type": "stream",
          "text": [
            "Total medals won by the USA each year:\n",
            "Year\n",
            "1896     20\n",
            "1900     55\n",
            "1904    394\n",
            "1908     63\n",
            "1912    101\n",
            "1920    193\n",
            "1924    198\n",
            "1928     84\n",
            "1932    181\n",
            "1936     92\n",
            "1948    148\n",
            "1952    130\n",
            "1956    118\n",
            "1960    112\n",
            "1964    150\n",
            "1968    149\n",
            "1972    155\n",
            "1976    155\n",
            "1984    333\n",
            "1988    193\n",
            "1992    224\n",
            "1996    260\n",
            "2000    248\n",
            "2004    264\n",
            "2008    315\n",
            "2012    250\n",
            "dtype: int64\n"
          ]
        }
      ],
      "source": [
        "#Code here\n",
        "import pandas as pd\n",
        "\n",
        "try:\n",
        "    df = pd.read_csv('summer.csv')\n",
        "\n",
        "    # Filter the DataFrame for \"USA\"\n",
        "    usa_df = df[df['Country'] == 'USA']\n",
        "\n",
        "    # Group the filtered DataFrame by \"Year\" and count medals\n",
        "    usa_medals_by_year = usa_df.groupby('Year').size()\n",
        "\n",
        "    # Print the results\n",
        "    print(\"Total medals won by the USA each year:\")\n",
        "    print(usa_medals_by_year)\n",
        "\n",
        "except FileNotFoundError:\n",
        "    print(\"Error: 'summer.csv' not found. Please make sure the file is in the correct directory.\")"
      ]
    },
    {
      "cell_type": "markdown",
      "metadata": {
        "id": "QPwEMGiOm2MH"
      },
      "source": [
        "___\n",
        "**21. Write a program to group the df DataFrame by the \"Sport\" column and calculate the number of each type of medal (Gold, Silver, Bronze) for each sport. Print the results.**"
      ]
    },
    {
      "cell_type": "code",
      "execution_count": 42,
      "metadata": {
        "colab": {
          "base_uri": "https://localhost:8080/"
        },
        "id": "L7LEmyW8m2MH",
        "outputId": "4e935bad-97aa-4805-dcc6-1de07744c2f9"
      },
      "outputs": [
        {
          "name": "stdout",
          "output_type": "stream",
          "text": [
            "Number of each type of medal for each sport:\n",
            "Medal              Bronze  Gold  Silver\n",
            "Sport                                  \n",
            "Aquatics             1365  1421    1384\n",
            "Archery                90   126     113\n",
            "Athletics            1199  1215    1224\n",
            "Badminton              52    46      46\n",
            "Baseball              112   111     112\n",
            "Basketball            334   342     336\n",
            "Basque Pelota           0     2       2\n",
            "Boxing                416   239     239\n",
            "Canoe                  27    27      27\n",
            "Canoe / Kayak         334   334     334\n",
            "Cricket                 0    12      12\n",
            "Croquet                 2     4       2\n",
            "Cycling               365   371     369\n",
            "Equestrian            306   320     313\n",
            "Fencing               519   552     542\n",
            "Football              509   503     485\n",
            "Golf                    4    13      13\n",
            "Gymnastics            731   820     756\n",
            "Handball              323   321     329\n",
            "Hockey                459   486     477\n",
            "Ice Hockey              8     8      11\n",
            "Jeu de paume            1     1       1\n",
            "Judo                  246   123     122\n",
            "Lacrosse                0    28      31\n",
            "Modern Pentathlon      60    60      60\n",
            "Polo                   17    22      27\n",
            "Rackets                 4     3       3\n",
            "Roque                   1     1       1\n",
            "Rowing                888   890     889\n",
            "Rugby                  23    78      91\n",
            "Sailing               325   412     372\n",
            "Shooting              380   384     386\n",
            "Skating                 9     9       9\n",
            "Softball               60    60      60\n",
            "Table Tennis           52    46      46\n",
            "Taekwondo              48    32      32\n",
            "Tennis                114    92      90\n",
            "Triathlon               8     8       8\n",
            "Tug of War             22    36      36\n",
            "Volleyball            331   332     331\n",
            "Water Motorsports       0     5       0\n",
            "Weightlifting         197   200     196\n",
            "Wrestling             428   391     393\n"
          ]
        }
      ],
      "source": [
        "#Code here\n",
        "import pandas as pd\n",
        "\n",
        "try:\n",
        "    df = pd.read_csv('summer.csv')\n",
        "\n",
        "    # Group by \"Sport\" and \"Medal\" to count each medal type per sport\n",
        "    medals_by_sport = df.groupby(['Sport', 'Medal']).size().unstack(fill_value=0)\n",
        "\n",
        "    # Print the results\n",
        "    print(\"Number of each type of medal for each sport:\")\n",
        "    print(medals_by_sport)\n",
        "\n",
        "except FileNotFoundError:\n",
        "    print(\"Error: 'summer.csv' not found. Please make sure the file is in the correct directory.\")"
      ]
    },
    {
      "cell_type": "markdown",
      "metadata": {
        "id": "pBOrlEawm2MH"
      },
      "source": [
        "### Good Luck!"
      ]
    }
  ],
  "metadata": {
    "colab": {
      "provenance": []
    },
    "kernelspec": {
      "display_name": "Python 3 (ipykernel)",
      "language": "python",
      "name": "python3"
    },
    "language_info": {
      "codemirror_mode": {
        "name": "ipython",
        "version": 3
      },
      "file_extension": ".py",
      "mimetype": "text/x-python",
      "name": "python",
      "nbconvert_exporter": "python",
      "pygments_lexer": "ipython3",
      "version": "3.11.7"
    }
  },
  "nbformat": 4,
  "nbformat_minor": 0
}
